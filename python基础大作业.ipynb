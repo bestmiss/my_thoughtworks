{
 "cells": [
  {
   "cell_type": "code",
   "execution_count": 7,
   "metadata": {},
   "outputs": [
    {
     "data": {
      "text/html": [
       "<div>\n",
       "<style scoped>\n",
       "    .dataframe tbody tr th:only-of-type {\n",
       "        vertical-align: middle;\n",
       "    }\n",
       "\n",
       "    .dataframe tbody tr th {\n",
       "        vertical-align: top;\n",
       "    }\n",
       "\n",
       "    .dataframe thead th {\n",
       "        text-align: right;\n",
       "    }\n",
       "</style>\n",
       "<table border=\"1\" class=\"dataframe\">\n",
       "  <thead>\n",
       "    <tr style=\"text-align: right;\">\n",
       "      <th></th>\n",
       "      <th>movieId</th>\n",
       "      <th>imdbId</th>\n",
       "      <th>tmdbId</th>\n",
       "    </tr>\n",
       "  </thead>\n",
       "  <tbody>\n",
       "    <tr>\n",
       "      <th>0</th>\n",
       "      <td>1</td>\n",
       "      <td>114709</td>\n",
       "      <td>862.0</td>\n",
       "    </tr>\n",
       "    <tr>\n",
       "      <th>1</th>\n",
       "      <td>2</td>\n",
       "      <td>113497</td>\n",
       "      <td>8844.0</td>\n",
       "    </tr>\n",
       "    <tr>\n",
       "      <th>2</th>\n",
       "      <td>3</td>\n",
       "      <td>113228</td>\n",
       "      <td>15602.0</td>\n",
       "    </tr>\n",
       "    <tr>\n",
       "      <th>3</th>\n",
       "      <td>4</td>\n",
       "      <td>114885</td>\n",
       "      <td>31357.0</td>\n",
       "    </tr>\n",
       "    <tr>\n",
       "      <th>4</th>\n",
       "      <td>5</td>\n",
       "      <td>113041</td>\n",
       "      <td>11862.0</td>\n",
       "    </tr>\n",
       "  </tbody>\n",
       "</table>\n",
       "</div>"
      ],
      "text/plain": [
       "   movieId  imdbId   tmdbId\n",
       "0        1  114709    862.0\n",
       "1        2  113497   8844.0\n",
       "2        3  113228  15602.0\n",
       "3        4  114885  31357.0\n",
       "4        5  113041  11862.0"
      ]
     },
     "execution_count": 7,
     "metadata": {},
     "output_type": "execute_result"
    }
   ],
   "source": [
    "# 编写一个python程序读取此数据集的内容，并统计得到以下信息：\n",
    "# 一共有多少不同的用户\n",
    "# 一共有多少不同的电影\n",
    "# 一共有多少不同的电影种类\n",
    "# 一共有多少电影没有外部链接\n",
    "# 2018年一共有多少人进行过电影评分\n",
    "\n",
    "import pandas as pd\n",
    "import time\n",
    "\n",
    "tags = pd.read_csv('D:/zybank/tags.csv')\n",
    "ratings = pd.read_csv('D:/zybank/ratings.csv')\n",
    "movies = pd.read_csv('D:/zybank/movies.csv')\n",
    "links = pd.read_csv('D:/zybank/links.csv')\n",
    "tags.head()\n",
    "ratings.head()\n",
    "movies.head()\n",
    "links.head()\n"
   ]
  },
  {
   "cell_type": "code",
   "execution_count": 5,
   "metadata": {},
   "outputs": [
    {
     "name": "stdout",
     "output_type": "stream",
     "text": [
      "1. 一共有 162541 个不同的用户\n",
      "2. 一共有 62423 种不同的电影\n",
      "3. 一共有 20 个不同的电影种类\n",
      "4. 一共有 0 部电影没有外部链接\n",
      "5. 2018年一共有 11999 人进行电影评分\n"
     ]
    }
   ],
   "source": [
    "# 1. 用户数量\n",
    "users = list()\n",
    "users.extend(tags['userId'].tolist())\n",
    "users.extend(ratings['userId'].tolist())\n",
    "\n",
    "\n",
    "print('1. 一共有 %s 个不同的用户' % (str(len(set(users)))))\n",
    "# 2. 电影数量\n",
    "m = movies['movieId'].tolist()\n",
    "print('2. 一共有 %s 种不同的电影' % (str(len(set(m)))))\n",
    "#2. 一共有 62423 种不同的电影\n",
    "# 3. 电影种类数量\n",
    "m_type_tmp = movies['genres'].tolist()\n",
    "m_type = list()\n",
    "for item in m_type_tmp:\n",
    "    if '|' in item:\n",
    "        m_type.extend(item.split('|'))\n",
    "    else:\n",
    "        m_type.append(item)\n",
    "print('3. 一共有 %s 个不同的电影种类' % (str(len(set(m_type)))))\n",
    "#3. 一共有 20 个不同的电影种类\n",
    "# 4. 电影无外部链接\n",
    "all_movie_id = set(movies['movieId'].tolist())\n",
    "has_link_movie_id = set(links['movieId'].tolist())\n",
    "no_link_movie_id = all_movie_id - has_link_movie_id\n",
    "print('4. 一共有 %s 部电影没有外部链接' % (str(len(no_link_movie_id))))\n",
    "#4. 一共有 0 部电影没有外部链接\n",
    "#5. 2018年进行电影评分用户\n",
    "def trans(timestamp):\n",
    "    time_local = time.localtime(timestamp)\n",
    "    dt = time.strftime(\"%Y\", time_local)\n",
    "    return dt\n",
    "ratings['timestamp'] = ratings['timestamp'].apply(trans)\n",
    "ratings_t_2018 = ratings[ratings['timestamp'] == '2018']\n",
    "u = ratings_t_2018['userId'].tolist()\n",
    "print('5. 2018年一共有 %s 人进行电影评分' % (str(len(set(u)))))\n",
    "# 5. 2018年一共有 11999 人进行电影评分\n"
   ]
  },
  {
   "cell_type": "code",
   "execution_count": 6,
   "metadata": {},
   "outputs": [
    {
     "name": "stdout",
     "output_type": "stream",
     "text": [
      "5. 2018年一共有 11999 人进行电影评分\n"
     ]
    }
   ],
   "source": []
  },
  {
   "cell_type": "code",
   "execution_count": null,
   "metadata": {},
   "outputs": [],
   "source": []
  }
 ],
 "metadata": {
  "kernelspec": {
   "display_name": "Python 3",
   "language": "python",
   "name": "python3"
  },
  "language_info": {
   "codemirror_mode": {
    "name": "ipython",
    "version": 3
   },
   "file_extension": ".py",
   "mimetype": "text/x-python",
   "name": "python",
   "nbconvert_exporter": "python",
   "pygments_lexer": "ipython3",
   "version": "3.6.4"
  }
 },
 "nbformat": 4,
 "nbformat_minor": 2
}
