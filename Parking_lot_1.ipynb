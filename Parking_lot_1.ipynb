{
 "cells": [
  {
   "cell_type": "code",
   "execution_count": 4,
   "metadata": {},
   "outputs": [],
   "source": [
    "###############\n",
    "#     需求1\n",
    "###############\n",
    "# 构造一个停车场，停车场可以停车和取车，停车成功后得到停车票。\n",
    "# 用户取车的时候也需要提供停车票，停车票有效，才可以成功取到车。\n",
    "\n",
    "class Parking_lot(object):\n",
    "    def __init__(self, total_nums, car_nums):\n",
    "        self.total_nums = total_nums\n",
    "        self.car_nums = car_nums\n",
    "        self.id_list = []\n",
    "\n",
    "    def push_car(self, id_car):\n",
    "        if self.total_nums <= self.car_nums:\n",
    "            print('车停满了')\n",
    "            return\n",
    "        self.car_nums += 1\n",
    "        self.id_list.append(id_car)\n",
    "        print('车辆{}已停入'.format(id_car))\n",
    "\n",
    "    def pop_car(self, id_car):\n",
    "        if id_car not in self.id_list:\n",
    "            print('没有这辆车')\n",
    "            return\n",
    "        self.car_nums -= 1\n",
    "        self.id_list.remove(id_car)\n",
    "        print('车辆{}已取出'.format(id_car))"
   ]
  },
  {
   "cell_type": "code",
   "execution_count": 11,
   "metadata": {},
   "outputs": [
    {
     "name": "stdout",
     "output_type": "stream",
     "text": [
      "车停满了\n",
      "没有这辆车\n",
      "车辆31已停入\n",
      "车辆31已取出\n"
     ]
    }
   ],
   "source": [
    "if __name__ == \"__main__\":\n",
    "    p =Parking_lot(20,20)\n",
    "    p.push_car(20)  \n",
    "    p.pop_car(6)\n",
    "    p =Parking_lot(20,10)\n",
    "    p.push_car(31)  \n",
    "    p.pop_car(31)"
   ]
  },
  {
   "cell_type": "code",
   "execution_count": null,
   "metadata": {},
   "outputs": [],
   "source": []
  }
 ],
 "metadata": {
  "kernelspec": {
   "display_name": "Python 3",
   "language": "python",
   "name": "python3"
  },
  "language_info": {
   "codemirror_mode": {
    "name": "ipython",
    "version": 3
   },
   "file_extension": ".py",
   "mimetype": "text/x-python",
   "name": "python",
   "nbconvert_exporter": "python",
   "pygments_lexer": "ipython3",
   "version": "3.6.4"
  }
 },
 "nbformat": 4,
 "nbformat_minor": 2
}
