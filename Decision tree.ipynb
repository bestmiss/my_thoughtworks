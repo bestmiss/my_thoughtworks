{
 "cells": [
  {
   "cell_type": "code",
   "execution_count": 1,
   "metadata": {},
   "outputs": [],
   "source": [
    "import numpy as np\n",
    "import pandas as pd\n",
    "import matplotlib as plt\n",
    "import pandas as pd\n",
    "from sklearn.model_selection import train_test_split \n",
    "from sklearn import datasets\n",
    "X,y=datasets.load_iris(return_X_y=True) #X与y\n",
    "target_names=datasets.load_iris().target_names #y的值列表:0:setosa,1:versicolor,2:virginica\n",
    "feature_names=datasets.load_iris().feature_names #特征X的名称列表"
   ]
  },
  {
   "cell_type": "code",
   "execution_count": 2,
   "metadata": {},
   "outputs": [],
   "source": [
    "feature_train, feature_test, target_train, target_test = train_test_split(X,y,test_size=0.30, random_state=42)"
   ]
  },
  {
   "cell_type": "code",
   "execution_count": 4,
   "metadata": {},
   "outputs": [],
   "source": [
    "from sklearn.tree import DecisionTreeClassifier\n",
    " \n",
    "dt_model = DecisionTreeClassifier(\n",
    "                                  max_depth=3,\n",
    "                                  min_samples_split=2,\n",
    "                                  min_samples_leaf=1,\n",
    "                                  min_weight_fraction_leaf=0,\n",
    "                                  max_leaf_nodes=None, \n",
    "                                  min_impurity_decrease=0\n",
    "                                   ) #设置决策树的参数\n",
    "dt_model.fit(feature_train,target_train) # 使用训练集训练模型\n",
    "predict_results = dt_model.predict(feature_test) # 使用模型对测试集进行预测"
   ]
  },
  {
   "cell_type": "code",
   "execution_count": 5,
   "metadata": {},
   "outputs": [
    {
     "name": "stdout",
     "output_type": "stream",
     "text": [
      "1.0\n"
     ]
    }
   ],
   "source": [
    "scores = dt_model.score(feature_test, target_test)\n",
    "print(scores)"
   ]
  },
  {
   "cell_type": "code",
   "execution_count": 6,
   "metadata": {},
   "outputs": [
    {
     "name": "stdout",
     "output_type": "stream",
     "text": [
      "['setosa' 'versicolor' 'virginica'] ['sepal length (cm)', 'sepal width (cm)', 'petal length (cm)', 'petal width (cm)']\n"
     ]
    }
   ],
   "source": [
    "print(target_names,feature_names)#0,1,2:6,1,3,1\n",
    "                                 #y的值列表:0:setosa,1:versicolor,2:virginica"
   ]
  },
  {
   "cell_type": "code",
   "execution_count": 7,
   "metadata": {},
   "outputs": [],
   "source": [
    "predict_test1 = [[6.0,1.0,3.0,2.0]]"
   ]
  },
  {
   "cell_type": "code",
   "execution_count": 8,
   "metadata": {},
   "outputs": [
    {
     "name": "stdout",
     "output_type": "stream",
     "text": [
      "[[6.0, 1.0, 3.0, 2.0]]\n"
     ]
    }
   ],
   "source": [
    "print(predict_test1)"
   ]
  },
  {
   "cell_type": "code",
   "execution_count": 9,
   "metadata": {},
   "outputs": [
    {
     "name": "stdout",
     "output_type": "stream",
     "text": [
      "[2]\n"
     ]
    }
   ],
   "source": [
    "predict_results_test1 = dt_model.predict(predict_test1)\n",
    "print(predict_results_test1)"
   ]
  },
  {
   "cell_type": "code",
   "execution_count": 10,
   "metadata": {},
   "outputs": [
    {
     "name": "stdout",
     "output_type": "stream",
     "text": [
      "virginca\n"
     ]
    }
   ],
   "source": [
    "if (predict_results_test1 == 0):\n",
    "    print (\"setosa\")\n",
    "elif(predict_results_test1 == 1):\n",
    "    print(\"versicolor\")\n",
    "else:\n",
    "    print(\"virginca\")"
   ]
  },
  {
   "cell_type": "code",
   "execution_count": 23,
   "metadata": {},
   "outputs": [],
   "source": [
    "#可视化数据\n",
    "import matplotlib.pyplot as plt\n",
    "from sklearn import tree\n",
    "from matplotlib import pyplot as plt\n",
    "#tree.plot_tree(dt_model)\n",
    "# plt.show()\n",
    "# plt.savefig('tree_image1.jpg')"
   ]
  },
  {
   "cell_type": "code",
   "execution_count": 27,
   "metadata": {},
   "outputs": [
    {
     "name": "stdout",
     "output_type": "stream",
     "text": [
      "Sklearn verion is 0.19.1\n"
     ]
    }
   ],
   "source": [
    "\n",
    "import sklearn\n",
    "\n",
    "print(\"Sklearn verion is {}\".format(sklearn.__version__))\n"
   ]
  },
  {
   "cell_type": "code",
   "execution_count": null,
   "metadata": {},
   "outputs": [],
   "source": []
  }
 ],
 "metadata": {
  "kernelspec": {
   "display_name": "Python 3",
   "language": "python",
   "name": "python3"
  },
  "language_info": {
   "codemirror_mode": {
    "name": "ipython",
    "version": 3
   },
   "file_extension": ".py",
   "mimetype": "text/x-python",
   "name": "python",
   "nbconvert_exporter": "python",
   "pygments_lexer": "ipython3",
   "version": "3.6.4"
  }
 },
 "nbformat": 4,
 "nbformat_minor": 2
}
